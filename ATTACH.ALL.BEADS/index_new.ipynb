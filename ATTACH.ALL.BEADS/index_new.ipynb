{
 "cells": [
  {
   "cell_type": "code",
   "execution_count": 7,
   "metadata": {},
   "outputs": [],
   "source": [
    "def write_index_file(init, end, name, outfile):\n",
    "    count1 = 0 \n",
    "    namestring = '[ '+name+' ]'\n",
    "    sp_0 = [\"\\n\", namestring,\"\\n\"]\n",
    "    outfile.writelines(sp_0)\n",
    "    for j in range(init,end):\n",
    "        count1 = count1 + 1\n",
    "        if count1 <= 15:\n",
    "           sp_1 = [str(j), \" \"]\n",
    "           outfile.writelines(sp_1)\n",
    "        else:\n",
    "           sp_2 = [\"\\n\", str(j), \" \"]\n",
    "           outfile.writelines(sp_2)\n",
    "           count1 = 1\n",
    "           continue\n",
    "       \n",
    "out1 = open('index_file.ndx', 'w')\n",
    "\n",
    "write_index_file(1, 16885, 'body', out1)\n",
    "write_index_file(16885, 48469, 'tail', out1)\n",
    "write_index_file(1, 50488, 'system', out1)\n",
    "out1.close()"
   ]
  }
 ],
 "metadata": {
  "kernelspec": {
   "display_name": "base",
   "language": "python",
   "name": "python3"
  },
  "language_info": {
   "codemirror_mode": {
    "name": "ipython",
    "version": 3
   },
   "file_extension": ".py",
   "mimetype": "text/x-python",
   "name": "python",
   "nbconvert_exporter": "python",
   "pygments_lexer": "ipython3",
   "version": "3.9.12"
  },
  "orig_nbformat": 4,
  "vscode": {
   "interpreter": {
    "hash": "2c1e4e9321a66093b2153b402a151e3bb728c655b32e43d54b7528e7deea2fdf"
   }
  }
 },
 "nbformat": 4,
 "nbformat_minor": 2
}
