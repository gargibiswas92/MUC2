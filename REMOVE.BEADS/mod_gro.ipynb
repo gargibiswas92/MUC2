{
 "cells": [
  {
   "cell_type": "code",
   "execution_count": 10,
   "metadata": {},
   "outputs": [
    {
     "name": "stdout",
     "output_type": "stream",
     "text": [
      "70943\n"
     ]
    }
   ],
   "source": [
    "sug_num = []\n",
    "sug_ind1 = []\n",
    "sug_ind2 = []\n",
    "sug_ind3 = []\n",
    "sug_ind4 = []\n",
    "out1 = open('MOD.gro', 'w')\n",
    "\n",
    "inp2 = open('INDEX.txt', 'r')\n",
    "for line2 in inp2:\n",
    "    arr = line2.split()\n",
    "    sug_num.append(int(arr[0]))\n",
    "    sug_ind1.append(int(arr[2]))\n",
    "    sug_ind2.append(int(arr[3]))\n",
    "    sug_ind3.append(int(arr[4]))\n",
    "    sug_ind4.append(int(arr[5]))\n",
    "    \n",
    "inp2.close()\n",
    "\n",
    "aban_list = []\n",
    "num = 5500\n",
    "\n",
    "for i in range(len(sug_num)):\n",
    "    if sug_num[i] > num:\n",
    "        aban_list.append(sug_ind1[i])\n",
    "        aban_list.append(sug_ind2[i])\n",
    "        aban_list.append(sug_ind3[i])\n",
    "        aban_list.append(sug_ind4[i])\n",
    "    else:\n",
    "        continue\n",
    "\n",
    "def write_gro(line, aban_list):\n",
    "    flag = 0\n",
    "    index = int(line[0:5])\n",
    "    if index in aban_list:\n",
    "        flag = 1\n",
    "    return flag\n",
    "\n",
    "inp1 = open('SUG.100.gro', 'r')\n",
    "count = 0\n",
    "for line in inp1:\n",
    "    count = count + 1\n",
    "\n",
    "inp1.close()\n",
    "print(count)\n",
    "inp3 = open('SUG.100.gro', 'r')\n",
    "\n",
    "count1 = 0\n",
    "for line3 in inp3:\n",
    "    count1 = count1 + 1\n",
    "    if count1 == 1 or count1 == 2 or count1 == count:\n",
    "        fl = 0\n",
    "    else:\n",
    "        fl = write_gro(line3, aban_list)\n",
    "        \n",
    "    if fl == 0:\n",
    "        out1.writelines(line3)\n",
    "    else:\n",
    "        continue\n",
    "        \n",
    "out1.close()\n",
    "inp3.close()\n"
   ]
  },
  {
   "cell_type": "code",
   "execution_count": null,
   "metadata": {},
   "outputs": [],
   "source": []
  }
 ],
 "metadata": {
  "kernelspec": {
   "display_name": "Python 3",
   "language": "python",
   "name": "python3"
  },
  "language_info": {
   "codemirror_mode": {
    "name": "ipython",
    "version": 3
   },
   "file_extension": ".py",
   "mimetype": "text/x-python",
   "name": "python",
   "nbconvert_exporter": "python",
   "pygments_lexer": "ipython3",
   "version": "3.9.14 (main, Nov  7 2022, 00:00:00) \n[GCC 11.3.1 20220421 (Red Hat 11.3.1-2)]"
  },
  "orig_nbformat": 4,
  "vscode": {
   "interpreter": {
    "hash": "e7370f93d1d0cde622a1f8e1c04877d8463912d04d973331ad4851f04de6915a"
   }
  }
 },
 "nbformat": 4,
 "nbformat_minor": 2
}
